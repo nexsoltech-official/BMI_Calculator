{
  "cells": [
    {
      "cell_type": "code",
      "source": [
        "height = input(\"Enter Your Height in cm \")\n",
        "height = int(height)\n",
        "weight = input(\"Enter your weight \")\n",
        "weight = int(weight)\n",
        "\n",
        "bmi = weight / ((height / 100) ** 2)\n",
        "print(\"Your BMI is \", bmi)\n",
        "\n",
        "if bmi > 30:\n",
        "    print(\"Obese\")\n",
        "elif bmi > 25:\n",
        "    print(\"Overweight\")\n",
        "elif bmi >= 18.5 and bmi <= 24.9:\n",
        "    print(\"Normal weight\")\n",
        "elif bmi < 18.5 :\n",
        "    print(\"Underweight\")\n",
        "else:\n",
        "  print(\"Unexpected BMI value\")\n"
      ],
      "metadata": {
        "id": "-U4uDydcnbr2",
        "colab": {
          "base_uri": "https://localhost:8080/"
        },
        "outputId": "142bf1bc-7c30-43a8-e033-c44765cc3db3"
      },
      "id": "-U4uDydcnbr2",
      "execution_count": 5,
      "outputs": [
        {
          "output_type": "stream",
          "name": "stdout",
          "text": [
            "Enter Your Height in cm 200\n",
            "Enter your weight 60\n",
            "Your BMI is  15.0\n",
            "Underweight\n"
          ]
        }
      ]
    },
    {
      "cell_type": "code",
      "source": [],
      "metadata": {
        "id": "CbUrvA6moLf0"
      },
      "id": "CbUrvA6moLf0",
      "execution_count": null,
      "outputs": []
    }
  ],
  "metadata": {
    "kernelspec": {
      "display_name": "Python 3 (ipykernel)",
      "language": "python",
      "name": "python3"
    },
    "language_info": {
      "codemirror_mode": {
        "name": "ipython",
        "version": 3
      },
      "file_extension": ".py",
      "mimetype": "text/x-python",
      "name": "python",
      "nbconvert_exporter": "python",
      "pygments_lexer": "ipython3",
      "version": "3.9.13"
    },
    "colab": {
      "provenance": []
    }
  },
  "nbformat": 4,
  "nbformat_minor": 5
}