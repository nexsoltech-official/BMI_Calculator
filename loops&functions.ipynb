{
  "nbformat": 4,
  "nbformat_minor": 0,
  "metadata": {
    "colab": {
      "provenance": []
    },
    "kernelspec": {
      "name": "python3",
      "display_name": "Python 3"
    },
    "language_info": {
      "name": "python"
    }
  },
  "cells": [
    {
      "cell_type": "code",
      "execution_count": 5,
      "metadata": {
        "colab": {
          "base_uri": "https://localhost:8080/"
        },
        "id": "LxVmY4dDn5pV",
        "outputId": "086450d7-e311-477b-e689-7b026be4dcb7"
      },
      "outputs": [
        {
          "output_type": "stream",
          "name": "stdout",
          "text": [
            "Enter your name: Hassan\n",
            "Hello, Hassan! Kese ho ?\n",
            "Enter a number to count to: 10\n",
            "1\n",
            "2\n",
            "3\n",
            "4\n",
            "5\n",
            "6\n",
            "7\n",
            "8\n",
            "9\n",
            "10\n"
          ]
        }
      ],
      "source": [
        "def greet(username):\n",
        "  print(f\"Hello, {username}! Kese ho ?\")\n",
        "\n",
        "def count_to_number(number):\n",
        "  for i in range(1, number + 1):\n",
        "    print(i)\n",
        "\n",
        "user_name = input(\"Enter your name: \")\n",
        "greet(user_name)\n",
        "\n",
        "count_to = int(input(\"Enter a number to count to: \"))\n",
        "count_to_number(count_to)\n"
      ]
    },
    {
      "cell_type": "code",
      "source": [],
      "metadata": {
        "id": "pspo7YvAodT-"
      },
      "execution_count": null,
      "outputs": []
    }
  ]
}